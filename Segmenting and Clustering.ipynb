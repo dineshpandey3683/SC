{
    "nbformat_minor": 1, 
    "cells": [
        {
            "execution_count": 4, 
            "cell_type": "code", 
            "metadata": {}, 
            "outputs": [
                {
                    "output_type": "stream", 
                    "name": "stdout", 
                    "text": "Initial packages imported: \nNumPy, Pandas, Matplotlib, Requests, bs4.BeautifulSoup, CSV.\nList of postal codes of Canada: M\n"
                }, 
                {
                    "execution_count": 4, 
                    "metadata": {}, 
                    "data": {
                        "text/html": "<div>\n<style scoped>\n    .dataframe tbody tr th:only-of-type {\n        vertical-align: middle;\n    }\n\n    .dataframe tbody tr th {\n        vertical-align: top;\n    }\n\n    .dataframe thead th {\n        text-align: right;\n    }\n</style>\n<table border=\"1\" class=\"dataframe\">\n  <thead>\n    <tr style=\"text-align: right;\">\n      <th></th>\n      <th>PostalCode</th>\n      <th>Borough</th>\n      <th>Neighbourhood</th>\n    </tr>\n  </thead>\n  <tbody>\n    <tr>\n      <th>0</th>\n      <td>None</td>\n      <td>None</td>\n      <td>None</td>\n    </tr>\n    <tr>\n      <th>1</th>\n      <td>M1A</td>\n      <td>Not assigned</td>\n      <td>Not assigned</td>\n    </tr>\n    <tr>\n      <th>2</th>\n      <td>M2A</td>\n      <td>Not assigned</td>\n      <td>Not assigned</td>\n    </tr>\n    <tr>\n      <th>3</th>\n      <td>M3A</td>\n      <td>North York</td>\n      <td>Parkwoods</td>\n    </tr>\n    <tr>\n      <th>4</th>\n      <td>M4A</td>\n      <td>North York</td>\n      <td>Victoria Village</td>\n    </tr>\n    <tr>\n      <th>5</th>\n      <td>M5A</td>\n      <td>Downtown Toronto</td>\n      <td>Harbourfront</td>\n    </tr>\n    <tr>\n      <th>6</th>\n      <td>M5A</td>\n      <td>Downtown Toronto</td>\n      <td>Regent Park</td>\n    </tr>\n    <tr>\n      <th>7</th>\n      <td>M6A</td>\n      <td>North York</td>\n      <td>Lawrence Heights</td>\n    </tr>\n    <tr>\n      <th>8</th>\n      <td>M6A</td>\n      <td>North York</td>\n      <td>Lawrence Manor</td>\n    </tr>\n    <tr>\n      <th>9</th>\n      <td>M7A</td>\n      <td>Queen's Park</td>\n      <td>Not assigned</td>\n    </tr>\n    <tr>\n      <th>10</th>\n      <td>M8A</td>\n      <td>Not assigned</td>\n      <td>Not assigned</td>\n    </tr>\n    <tr>\n      <th>11</th>\n      <td>M9A</td>\n      <td>Etobicoke</td>\n      <td>Islington Avenue</td>\n    </tr>\n    <tr>\n      <th>12</th>\n      <td>M1B</td>\n      <td>Scarborough</td>\n      <td>Rouge</td>\n    </tr>\n    <tr>\n      <th>13</th>\n      <td>M1B</td>\n      <td>Scarborough</td>\n      <td>Malvern</td>\n    </tr>\n    <tr>\n      <th>14</th>\n      <td>M2B</td>\n      <td>Not assigned</td>\n      <td>Not assigned</td>\n    </tr>\n    <tr>\n      <th>15</th>\n      <td>M3B</td>\n      <td>North York</td>\n      <td>Don Mills North</td>\n    </tr>\n  </tbody>\n</table>\n</div>", 
                        "text/plain": "   PostalCode           Borough     Neighbourhood\n0        None              None              None\n1         M1A      Not assigned      Not assigned\n2         M2A      Not assigned      Not assigned\n3         M3A        North York         Parkwoods\n4         M4A        North York  Victoria Village\n5         M5A  Downtown Toronto      Harbourfront\n6         M5A  Downtown Toronto       Regent Park\n7         M6A        North York  Lawrence Heights\n8         M6A        North York    Lawrence Manor\n9         M7A      Queen's Park      Not assigned\n10        M8A      Not assigned      Not assigned\n11        M9A         Etobicoke  Islington Avenue\n12        M1B       Scarborough             Rouge\n13        M1B       Scarborough           Malvern\n14        M2B      Not assigned      Not assigned\n15        M3B        North York   Don Mills North"
                    }, 
                    "output_type": "execute_result"
                }
            ], 
            "source": "import numpy as np\nimport pandas as pd\nimport matplotlib.pyplot as plt\n%matplotlib inline\nimport requests\nfrom bs4 import BeautifulSoup\nimport csv\nprint(\"Initial packages imported: \\nNumPy, Pandas, Matplotlib, Requests, bs4.BeautifulSoup, CSV.\")\nwikipedia_link='https://en.wikipedia.org/wiki/List_of_postal_codes_of_Canada:_M'\npage = (requests.get(wikipedia_link)).text\n# Print Wikipedia page title\nbegin_title_tag_index = page.find(\"<title>\")\nend_title_tag_index = page.find(\"</title>\")\nstart_title_index = begin_title_tag_index + 7\nend_title_index = end_title_tag_index\n\ntitle_string = page[int(start_title_index):int(end_title_index)]\nwikipedia_page_title = title_string.strip(' - Wikipedia')\nprint(wikipedia_page_title)\nsoup = BeautifulSoup(page, 'lxml')\n# print(soup.prettify())\n# Conduct data cleanup on the scraped webpage to generate the table with Canada postal codes\nMy_table = soup.find('body', {'class' : 'mediawiki'})\n# print(\"My_table = \\n\", My_table)\n\nMy_table1 = soup.find('table', {'class' : 'wikitable sortable'})\n# print(\"My_table1 = \\n\", My_table1.prettify())\n\n# Generate the array for the webpage's HTML markup for the table rows ('tr'); print out the first 10 table rows \nrows1 = My_table1.findAll('tr')\nrows1[0:8]\n# Calculate the total number of rows in the table of Canada postal codes\nlen(rows1)\n# Generate the array for the Canada Postal Codes Table; eliminate rows with empty values\npostalCodesTable = []\nfor row in rows1:\n    cols = row.find_all('td')\n    cols = [ele.text.strip() for ele in cols]\n    postalCodesTable.append([ele for ele in cols if ele]) \n# postalCodesTable\n# Confirm the total number of rows in the table of Canada postal codes:\n#   make sure the above data cleanup is correct, with no dropped rows\nlen(postalCodesTable)\npostalCodesTable = pd.DataFrame(postalCodesTable)\npostalCodesTable.columns = ['PostalCode', 'Borough', 'Neighbourhood']\npostalCodesTable.head(16)"
        }, 
        {
            "execution_count": null, 
            "cell_type": "code", 
            "metadata": {}, 
            "outputs": [], 
            "source": ""
        }
    ], 
    "metadata": {
        "kernelspec": {
            "display_name": "Python 3.5", 
            "name": "python3", 
            "language": "python"
        }, 
        "language_info": {
            "mimetype": "text/x-python", 
            "nbconvert_exporter": "python", 
            "version": "3.5.5", 
            "name": "python", 
            "file_extension": ".py", 
            "pygments_lexer": "ipython3", 
            "codemirror_mode": {
                "version": 3, 
                "name": "ipython"
            }
        }
    }, 
    "nbformat": 4
}